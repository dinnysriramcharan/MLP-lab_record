{
  "nbformat": 4,
  "nbformat_minor": 0,
  "metadata": {
    "colab": {
      "name": "19911A3539 mlpy record.ipynb",
      "provenance": [],
      "collapsed_sections": [
        "1DtBsJKOoctU"
      ],
      "authorship_tag": "ABX9TyNuMeVxeeP3NNoTZvFkpqH9",
      "include_colab_link": true
    },
    "kernelspec": {
      "name": "python3",
      "display_name": "Python 3"
    },
    "language_info": {
      "name": "python"
    }
  },
  "cells": [
    {
      "cell_type": "markdown",
      "metadata": {
        "id": "view-in-github",
        "colab_type": "text"
      },
      "source": [
        "<a href=\"https://colab.research.google.com/github/dinnysriramcharan/MLP-lab_record/blob/main/19911A3539_mlpy_record.ipynb\" target=\"_parent\"><img src=\"https://colab.research.google.com/assets/colab-badge.svg\" alt=\"Open In Colab\"/></a>"
      ]
    },
    {
      "cell_type": "markdown",
      "metadata": {
        "id": "ABTjxSubfJkk"
      },
      "source": [
        "#Python Lab Record"
      ]
    },
    {
      "cell_type": "markdown",
      "metadata": {
        "id": "dDfjs3SSfCoX"
      },
      "source": [
        "##Exercise 1"
      ]
    },
    {
      "cell_type": "markdown",
      "metadata": {
        "id": "SwSPYNHUF_kd"
      },
      "source": [
        "###b)Write a program to demonstrate the basic use of basic Data Types"
      ]
    },
    {
      "cell_type": "code",
      "metadata": {
        "id": "pJGQd7UxGleW",
        "colab": {
          "base_uri": "https://localhost:8080/"
        },
        "outputId": "3f371352-27b9-431f-cc8a-1d437db00dfd"
      },
      "source": [
        "x = 100\n",
        "print(x)\n",
        "print(type(x))\n",
        "\n",
        "x = 14.3\n",
        "print(x)\n",
        "print(type(x))\n",
        "\n",
        "a = \"hello world\"\n",
        "print(a)\n",
        "print(type(a))\n",
        "\n",
        "a = [1,2,3,4]\n",
        "print(a)\n",
        "print(type(a))\n",
        "\n",
        "a = (10,20)\n",
        "print(a)\n",
        "print(type(a))\n",
        "\n",
        "a = True\n",
        "print(a)\n",
        "print(type(a))\n",
        "\n",
        "a = {\"a\":4,\"b\":3,\"c\":2,\"d\":1}\n",
        "print(a)\n",
        "print(type(a))"
      ],
      "execution_count": null,
      "outputs": [
        {
          "output_type": "stream",
          "text": [
            "100\n",
            "<class 'int'>\n",
            "14.3\n",
            "<class 'float'>\n",
            "hello world\n",
            "<class 'str'>\n",
            "[1, 2, 3, 4]\n",
            "<class 'list'>\n",
            "(10, 20)\n",
            "<class 'tuple'>\n",
            "False\n",
            "<class 'bool'>\n",
            "{'a': 4, 'b': 3, 'c': 2, 'd': 1}\n",
            "<class 'dict'>\n"
          ],
          "name": "stdout"
        }
      ]
    },
    {
      "cell_type": "markdown",
      "metadata": {
        "id": "F5y8R81EGXAz"
      },
      "source": [
        "###c)Write a program to demonstrate the Operators and Expressions."
      ]
    },
    {
      "cell_type": "code",
      "metadata": {
        "id": "stLTrgaIGndj",
        "colab": {
          "base_uri": "https://localhost:8080/"
        },
        "outputId": "feaab532-af99-4238-d0e6-1d02d6a9350f"
      },
      "source": [
        "a = 100\n",
        "b = 200\n",
        "print(\"Airthmetic operators\\n\")\n",
        "print(\"a + b = \",a+b)\n",
        "print(\"a - b = \",a-b)\n",
        "print(\"a * b = \",a*b)\n",
        "print(\"a / b = \",a/b)\n",
        "print(\"a // b = \",a//b)\n",
        "print(\"a % b = \",a%b)\n",
        "print(\"a ** b = \",a**b)\n",
        "print(\"Relational operators\\n\")\n",
        "print(\"is a > b = \",a>b)\n",
        "print(\"is a >= b = \",a>=b)\n",
        "print(\"is a < b = \",a<b)\n",
        "print(\"is a <= b = \",a<=b)\n",
        "print(\"is a == b = \",a==b)\n",
        "print(\"is a != b = \",a!=b)\n",
        "print(\"Bitwise operators\")\n",
        "print(\"a & b = \",a & b)\n",
        "print(\"a | b = \",a | b)\n",
        "print(\"~a = \",~a)\n",
        "print(\"a ^ b = \",a ^ b)\n",
        "print(\"a >> 2 = \",a >> 2)\n",
        "print(\"a << 2 = \",a << 2)\n",
        "print(\"membership operators\\n\")\n",
        "x = [14,31,1,34,18,314,343,143]\n",
        "print(a not in x)\n",
        "print(a in x)\n"
      ],
      "execution_count": null,
      "outputs": [
        {
          "output_type": "stream",
          "text": [
            "Airthmetic operators\n",
            "\n",
            "a + b =  300\n",
            "a - b =  -100\n",
            "a * b =  20000\n",
            "a / b =  0.5\n",
            "a // b =  0\n",
            "a % b =  100\n",
            "a ** b =  10000000000000000000000000000000000000000000000000000000000000000000000000000000000000000000000000000000000000000000000000000000000000000000000000000000000000000000000000000000000000000000000000000000000000000000000000000000000000000000000000000000000000000000000000000000000000000000000000000000000000000000000000000000000000000000000000000000000000000000000000000000000000000000000000000000000000000\n",
            "Relational operators\n",
            "\n",
            "is a > b =  False\n",
            "is a >= b =  False\n",
            "is a < b =  True\n",
            "is a <= b =  True\n",
            "is a == b =  False\n",
            "is a != b =  True\n",
            "Bitwise operators\n",
            "a & b =  64\n",
            "a | b =  236\n",
            "~a =  -101\n",
            "a ^ b =  172\n",
            "a >> 2 =  25\n",
            "a << 2 =  400\n",
            "membership operators\n",
            "\n",
            "True\n",
            "False\n"
          ],
          "name": "stdout"
        }
      ]
    },
    {
      "cell_type": "markdown",
      "metadata": {
        "id": "ANrGdh46GXna"
      },
      "source": [
        "###d)Write a program to demonstrate the Functions and Parameter passing Technique."
      ]
    },
    {
      "cell_type": "code",
      "metadata": {
        "id": "LUzCrAT7G3K_",
        "colab": {
          "base_uri": "https://localhost:8080/",
          "height": 105
        },
        "outputId": "72b57b3a-846f-403a-8346-378dcd540ac4"
      },
      "source": [
        "#function without parameter and without return type\n",
        "def fun():\n",
        "  print(\"ai\")\n",
        "fun()\n",
        "\n",
        "#Function with parameters without return type\n",
        "def fun2(a):\n",
        "  print(a)\n",
        "a='hello'\n",
        "fun2(a)\n",
        "\n",
        "#function without parameter and with return type\n",
        "def fun3():\n",
        "  return \"hi\"\n",
        "print(fun3()) \n",
        "\n",
        "\n",
        "#Function with parameters with return type\n",
        "def fun4(a):\n",
        "  print(a)\n",
        "  return 'dinny'\n",
        "a='hello'\n",
        "fun4(a)"
      ],
      "execution_count": null,
      "outputs": [
        {
          "output_type": "stream",
          "text": [
            "ai\n",
            "hello\n",
            "hi\n",
            "hello\n"
          ],
          "name": "stdout"
        },
        {
          "output_type": "execute_result",
          "data": {
            "application/vnd.google.colaboratory.intrinsic+json": {
              "type": "string"
            },
            "text/plain": [
              "'dinny'"
            ]
          },
          "metadata": {
            "tags": []
          },
          "execution_count": 1
        }
      ]
    },
    {
      "cell_type": "markdown",
      "metadata": {
        "id": "M4ed1vFUoUQC"
      },
      "source": [
        "##Exercise 2"
      ]
    },
    {
      "cell_type": "markdown",
      "metadata": {
        "id": "zZVM5OEDHGiF"
      },
      "source": [
        "###b)Write a program to implement \n",
        "i)List\n",
        "ii)tuple\n",
        "iii)dictionaries"
      ]
    },
    {
      "cell_type": "code",
      "metadata": {
        "colab": {
          "base_uri": "https://localhost:8080/"
        },
        "id": "wBMgVJ8tOKea",
        "outputId": "d3893875-fa36-4d9f-da01-89ae3317c0f0"
      },
      "source": [
        "#List\n",
        "a = [5,8,6,9]\n",
        "print(type(a))\n",
        "print(a)\n",
        "\n",
        "#Tuple\n",
        "a=(25,47,\"dinny\")\n",
        "print(type(a))\n",
        "print(a)\n",
        "\n",
        "#Dictionary\n",
        "a = {\"name\":\"dinny\", \"roll no\":39}\n",
        "print(type(a))\n",
        "print(a)"
      ],
      "execution_count": null,
      "outputs": [
        {
          "output_type": "stream",
          "text": [
            "<class 'list'>\n",
            "[5, 8, 6, 9]\n",
            "<class 'tuple'>\n",
            "(25, 47, 'dinny')\n",
            "<class 'dict'>\n",
            "{'name': 'dinny', 'roll no': 39}\n"
          ],
          "name": "stdout"
        }
      ]
    },
    {
      "cell_type": "markdown",
      "metadata": {
        "id": "Ezn2ltTbHmsA"
      },
      "source": [
        "###c)Programs on strings. String Operations and Regular Expressions"
      ]
    },
    {
      "cell_type": "code",
      "metadata": {
        "colab": {
          "base_uri": "https://localhost:8080/"
        },
        "id": "ofrFFKIGQvi_",
        "outputId": "7618b4b0-d1b3-4fce-ec91-231596a1908c"
      },
      "source": [
        "#Strings\n",
        "s = \"hello world\"\n",
        "\n",
        "print(s)\n",
        "\n",
        "print(len(s))\n",
        "print(s[:])\n",
        "print(s[0:-1])\n",
        "print(s[-1])\n",
        "print(s[1:3])\n",
        "\n",
        "#String Operations\n",
        "s = \"dinny sriram charan\"\n",
        "\n",
        "print(s.capitalize())\n",
        "print(s.upper())\n",
        "print(s.lower())\n",
        "print(s.startswith(\"di\"))\n",
        "print(s.endswith(\"y\"))\n",
        "\n",
        "a = \"vidya\"\n",
        "b= \"jyothi\"\n",
        "c = \"institute\"\n",
        "d = \"of\"\n",
        "e = \"techonology\"\n",
        "\n",
        "print(\"--\".join((a,b,c,d,e)))\n",
        "\n",
        "#Regular Expressions\n",
        "import re\n",
        "\n",
        "s = \"vidya jyothi institute of techonology\"\n",
        "\n",
        "pattern  = \"jyothi\"\n",
        "\n",
        "if re.match(pattern, s):\n",
        "  print(\"Pattern found\")\n",
        "else:\n",
        "  print(\"Pattern not found\")\n",
        "\n",
        "if re.search(pattern, s):\n",
        "  print(\"Pattern found\")\n",
        "else:\n",
        "  print(\"Pattern not found\")\n",
        "\n",
        "s1 = re.sub(pattern,\"dinny\",s,1)\n",
        "print(s1)\n",
        "\n",
        "s = \"a1 b2 c3 d4 e5\"\n",
        "pattern = \"\\d\"\n",
        "s1 = re.sub(pattern,\"39\",s,3)\n",
        "print(s1)\n",
        "\n",
        "\n",
        "s = \"aaa123bb334 asd 42314 34\"\n",
        "pattern = r\"[a-z]+\"\n",
        "matches = re.findall(pattern, s)\n",
        "print(matches)\n",
        "\n",
        "import re \n",
        "regex='\\d[0-9] [a-z]'\n",
        "\n",
        "def check(string):\n",
        "\n",
        "  if (re.search(regex,string)):\n",
        "    print(\"string has digits\")\n",
        "\n",
        "  else:\n",
        "    print(\"string dont have digits\")\n",
        "\n",
        "check(\"39 dinny\") \n",
        "\n",
        "\n",
        "vowels='aeiouAEIOU'\n",
        "\n",
        "def check(string):\n",
        "  if re.search(vowels,string):\n",
        "    print(\"there is a vowel\")\n",
        "\n",
        "  else :\n",
        "    print(\"there is no vowel in string\")  \n",
        "\n",
        "check('dinny')   \n",
        "\n",
        "\n",
        "import re \n",
        "regex='\\S+@\\S+'\n",
        "\n",
        "string=\"39 dinny@hjkl hrllo  bh@gmail.com\"\n",
        "d=(re.findall(regex,string))\n",
        "d\n",
        "\n",
        "import re \n",
        "a=\"39 dinny@hjkl hrllo  bh@gmail.com hu\"\n",
        "\n",
        "c=re.findall(r\"^\\w+\",a)\n",
        "d=re.findall(r\"\\w+$\",a)\n",
        "print(c)\n",
        "print(d)"
      ],
      "execution_count": null,
      "outputs": [
        {
          "output_type": "stream",
          "text": [
            "hello world\n",
            "11\n",
            "hello world\n",
            "hello worl\n",
            "d\n",
            "el\n",
            "Dinny sriram charan\n",
            "DINNY SRIRAM CHARAN\n",
            "dinny sriram charan\n",
            "True\n",
            "False\n",
            "vidya--jyothi--institute--of--techonology\n",
            "Pattern not found\n",
            "Pattern found\n",
            "vidya dinny institute of techonology\n",
            "a39 b39 c39 d4 e5\n",
            "['aaa', 'bb', 'asd']\n"
          ],
          "name": "stdout"
        }
      ]
    },
    {
      "cell_type": "markdown",
      "metadata": {
        "id": "kkqvgUwIocJK"
      },
      "source": [
        "##Exercise 3"
      ]
    },
    {
      "cell_type": "markdown",
      "metadata": {
        "id": "6Nr6p3yUH24y"
      },
      "source": [
        "###a)Write a program to implement Class and Object"
      ]
    },
    {
      "cell_type": "code",
      "metadata": {
        "colab": {
          "base_uri": "https://localhost:8080/"
        },
        "id": "D_AQB-_FR1pf",
        "outputId": "dbc7fb79-77d7-4e81-a551-87f81b931465"
      },
      "source": [
        "class student:\n",
        "  def __init__(self, name, rollno):\n",
        "    self.name = name\n",
        "    self.rollno = rollno\n",
        "\n",
        "S1 = student(\"Dinny\", 39)\n",
        "\n",
        "print(S1.name)\n",
        "print(S1.rollno)"
      ],
      "execution_count": null,
      "outputs": [
        {
          "output_type": "stream",
          "text": [
            "Dinny\n",
            "39\n"
          ],
          "name": "stdout"
        }
      ]
    },
    {
      "cell_type": "markdown",
      "metadata": {
        "id": "6emXUu42IE1q"
      },
      "source": [
        "###b)Write a program to implement Staic and INstance methods, Abstract classes and interfaces"
      ]
    },
    {
      "cell_type": "code",
      "metadata": {
        "colab": {
          "base_uri": "https://localhost:8080/"
        },
        "id": "JsEEsfbQUchR",
        "outputId": "f87083a5-cd3d-4e24-858c-90df121f9d6d"
      },
      "source": [
        "class Customer:\n",
        "  def __init__(self, name, city):\n",
        "    self.name = name\n",
        "    self.city = city\n",
        "\n",
        "\n",
        "  #customer_data() is an instance method\n",
        "  def customer_data(self):\n",
        "    print(\"Customer Name: \", self.name)\n",
        "    print(\"City: \",self.city)\n",
        "\n",
        "  \n",
        "  # all_customers_data() is a static method\n",
        "  def all_customers_data(customers):\n",
        "    print(\"\\n\")\n",
        "    for customer in customers:\n",
        "      customer.customer_data()\n",
        "      print(\"-\"*20)\n",
        "\n",
        "c1 = Customer(\"dinny\", \"Hyderabad\")\n",
        "c2 = Customer(\"sriram\", \"chennai\")\n",
        "c3 = Customer(\"charan\", \"Mumbai\")\n",
        "\n",
        "#calling the instance method\n",
        "c1.customer_data()\n",
        "\n",
        "#calling the static method\n",
        "Customer.all_customers_data((c1, c2, c3))"
      ],
      "execution_count": null,
      "outputs": [
        {
          "output_type": "stream",
          "text": [
            "Customer Name:  dinny\n",
            "City:  Hyderabad\n",
            "\n",
            "\n",
            "Customer Name:  dinny\n",
            "City:  Hyderabad\n",
            "--------------------\n",
            "Customer Name:  sriram\n",
            "City:  chennai\n",
            "--------------------\n",
            "Customer Name:  charan\n",
            "City:  Mumbai\n",
            "--------------------\n"
          ],
          "name": "stdout"
        }
      ]
    },
    {
      "cell_type": "markdown",
      "metadata": {
        "id": "css-o1tDIS6D"
      },
      "source": [
        "###c)Write a program to compute distance between two points taking input from the user(pythagorean theoram)"
      ]
    },
    {
      "cell_type": "code",
      "metadata": {
        "colab": {
          "base_uri": "https://localhost:8080/"
        },
        "id": "inf5JTvsSWok",
        "outputId": "c649117c-4781-4712-9df7-eb75712d1209"
      },
      "source": [
        "x1=int(input(\"enter x1 : \"))\n",
        "\n",
        "x2=int(input(\"enter x2 : \"))\n",
        "\n",
        "y1=int(input(\"enter y1 : \"))\n",
        "\n",
        "y2=int(input(\"enter y2 : \"))\n",
        "\n",
        "result= ((((x2 - x1 )**2) + ((y2-y1)**2) )**0.5)\n",
        "\n",
        "print(\"distance between\",(x1,x2),\"and\",(y1,y2),\"is : \",result)"
      ],
      "execution_count": null,
      "outputs": [
        {
          "output_type": "stream",
          "text": [
            "enter x1 : 45\n",
            "enter x2 : 49\n",
            "enter y1 : 21\n",
            "enter y2 : 25\n",
            "distance between (45, 49) and (21, 25) is :  5.656854249492381\n"
          ],
          "name": "stdout"
        }
      ]
    },
    {
      "cell_type": "markdown",
      "metadata": {
        "id": "m1syRfZModAN"
      },
      "source": [
        "##Exercise 4"
      ]
    },
    {
      "cell_type": "markdown",
      "metadata": {
        "id": "qNz48zAHNaAf"
      },
      "source": [
        "###a)Write a program to implement inheritance and polymorphism"
      ]
    },
    {
      "cell_type": "code",
      "metadata": {
        "colab": {
          "base_uri": "https://localhost:8080/"
        },
        "id": "7tZkOuSTKi9b",
        "outputId": "0c235895-49c9-4928-b248-f6964983eaca"
      },
      "source": [
        "class A():\n",
        "  def __init__(self,x):\n",
        "    self.x = x\n",
        "  \n",
        "class B(A):\n",
        "  def __init__(self,x,y):\n",
        "    A.__init__(self,x)\n",
        "    self.y = y\n",
        "\n",
        "  def show(self):\n",
        "    print(self.x + self.y)\n",
        "  \n",
        "\n",
        "db = B(1,39)\n",
        "db.show()"
      ],
      "execution_count": null,
      "outputs": [
        {
          "output_type": "stream",
          "text": [
            "40\n"
          ],
          "name": "stdout"
        }
      ]
    },
    {
      "cell_type": "markdown",
      "metadata": {
        "id": "a12r2PK3Nrfp"
      },
      "source": [
        "###b)Write a program to implement files."
      ]
    },
    {
      "cell_type": "code",
      "metadata": {
        "colab": {
          "base_uri": "https://localhost:8080/"
        },
        "id": "dcTY-1ReLe7S",
        "outputId": "c1e8603f-f782-4a73-f4e2-3a16fad8c4f2"
      },
      "source": [
        "fp = open(\"file2.txt\",\"x\")\n",
        "with open(\"file2.txt\",\"w\") as fp:\n",
        "  fp.write(\"Hello world\\n\")\n",
        "with open(\"file2.txt\",\"a\") as fp:\n",
        "  fp.write(\"Iam dinny\\n\")\n",
        "\n",
        "fp = open(\"file2.txt\",'r')\n",
        "print(fp.read())\n",
        "\n",
        "\n",
        "fp.close()"
      ],
      "execution_count": null,
      "outputs": [
        {
          "output_type": "stream",
          "text": [
            "Hello world\n",
            "Iam dinny\n",
            "\n"
          ],
          "name": "stdout"
        }
      ]
    },
    {
      "cell_type": "markdown",
      "metadata": {
        "id": "lIAe_fgwN2vF"
      },
      "source": [
        "###c)Write a program to illustrate Handling."
      ]
    },
    {
      "cell_type": "code",
      "metadata": {
        "colab": {
          "base_uri": "https://localhost:8080/"
        },
        "id": "7mPOfsYSKsV_",
        "outputId": "59a92e9e-5b48-43a8-d79d-93da424547ac"
      },
      "source": [
        "\n",
        "a = 500\n",
        "b = 0\n",
        "try:\n",
        "  print(a/b)\n",
        "except:\n",
        "  print(\"Error\")"
      ],
      "execution_count": null,
      "outputs": [
        {
          "output_type": "stream",
          "text": [
            "Error\n"
          ],
          "name": "stdout"
        }
      ]
    },
    {
      "cell_type": "markdown",
      "metadata": {
        "id": "1DtBsJKOoctU"
      },
      "source": [
        "##Exercise 5"
      ]
    },
    {
      "cell_type": "markdown",
      "metadata": {
        "id": "msPuW5HqORz5"
      },
      "source": [
        "###b)Program to calculate the entropy and the information gain."
      ]
    },
    {
      "cell_type": "code",
      "metadata": {
        "colab": {
          "base_uri": "https://localhost:8080/"
        },
        "id": "nldbZem3WUwj",
        "outputId": "6e3df83a-e849-4e84-82ae-c2ace581cc62"
      },
      "source": [
        "from __future__ import division\n",
        "from math import log\n",
        "\n",
        "def entropy(pi):\n",
        "  total = 0\n",
        "  for p in pi:\n",
        "        p = p / sum(pi)\n",
        "        if p != 0:\n",
        "            total += p * log(p, 2)\n",
        "        else:\n",
        "            total += 0\n",
        "  total *= -1\n",
        "  return total\n",
        "def gain(d, a):\n",
        "   total = 0\n",
        "   for v in a:\n",
        "        total += sum(v) / sum(d) * entropy(v)\n",
        "\n",
        "   gain = entropy(d) - total\n",
        "   return gain\n",
        "\n",
        "# set of example of the dataset\n",
        "willWait = [6, 6] # Yes, No\n",
        "\n",
        "# attribute, number of members (feature)\n",
        "patron = [ [4,0], [2,4], [0,2] ] # Some, Full, None\n",
        "\n",
        "print(gain(willWait, patron))"
      ],
      "execution_count": null,
      "outputs": [
        {
          "output_type": "stream",
          "text": [
            "0.5408520829727552\n"
          ],
          "name": "stdout"
        }
      ]
    },
    {
      "cell_type": "markdown",
      "metadata": {
        "id": "35wE6BJfoiQj"
      },
      "source": [
        "##Exercise 6"
      ]
    },
    {
      "cell_type": "markdown",
      "metadata": {
        "id": "p37y3v6KOosS"
      },
      "source": [
        "###a) Generate a decision tree. Find the depth of decision trees and observe the results. then propose some changes in decision tree classfier function to limit."
      ]
    },
    {
      "cell_type": "code",
      "metadata": {
        "id": "orcMyuPgNfZi"
      },
      "source": [
        "import numpy as np\n",
        "import pandas as pd\n",
        "from sklearn import tree\n",
        "from sklearn.preprocessing import LabelEncoder\n",
        "\n",
        "data=pd.read_csv(\"https://raw.githubusercontent.com/codebasics/py/master/ML/9_decision_tree/Exercise/titanic.csv\")\n",
        "\n",
        "print(data.shape)\n",
        "data.head()\n",
        "\n",
        "data=data.drop(['Name','PassengerId','SibSp','Parch','Ticket','Cabin','Embarked'],axis='columns')\n",
        "\n",
        "data.Age=data.Age.fillna(data.Age.mean())\n",
        "\n",
        "enco=LabelEncoder()\n",
        "data['sex']=enco.fit_transform(data['Sex'])\n",
        "\n",
        "inputs=data.drop('Survived',axis='columns')\n",
        "inputs.head()\n",
        "\n",
        "target=data.Survived\n",
        "target.head()\n",
        "\n",
        "model=tree.DecisionTreeClassifier()\n",
        "model.fit(inputs,target)\n",
        "model.score(inputs,target)"
      ],
      "execution_count": null,
      "outputs": []
    },
    {
      "cell_type": "markdown",
      "metadata": {
        "id": "M05YvK_eoj97"
      },
      "source": [
        "##Exercise 7"
      ]
    },
    {
      "cell_type": "markdown",
      "metadata": {
        "id": "uldAsMbpPYo1"
      },
      "source": [
        "###a) Calculating with matrices using numpy:inv,pinv,matric_rank,solve,lstsq,svd,transpose,eig,sort,linsspace,meshgrid,ogrid,concatenate,tile,squeeze,integrate."
      ]
    },
    {
      "cell_type": "code",
      "metadata": {
        "colab": {
          "base_uri": "https://localhost:8080/"
        },
        "id": "3Hwl5Xa9D418",
        "outputId": "7ff9a852-3cd7-49da-815e-3a3771f8ddc0"
      },
      "source": [
        "import numpy as np\n",
        "A = np.array([[3, 1, 2],\n",
        "\t\t\t[5, -1, 3],\n",
        "\t\t\t[2, 9, 4]])\n",
        "print(np.linalg.inv(A))\n",
        "print(np.linalg.pinv(A))\n",
        "print(np.linalg.matrix_rank(A))"
      ],
      "execution_count": null,
      "outputs": [
        {
          "output_type": "stream",
          "text": [
            "[[ 2.38461538 -1.07692308 -0.38461538]\n",
            " [ 1.07692308 -0.61538462 -0.07692308]\n",
            " [-3.61538462  1.92307692  0.61538462]]\n",
            "[[ 2.38461538 -1.07692308 -0.38461538]\n",
            " [ 1.07692308 -0.61538462 -0.07692308]\n",
            " [-3.61538462  1.92307692  0.61538462]]\n",
            "3\n"
          ],
          "name": "stdout"
        }
      ]
    },
    {
      "cell_type": "code",
      "metadata": {
        "id": "d5dWDhQAECKN",
        "colab": {
          "base_uri": "https://localhost:8080/",
          "height": 237
        },
        "outputId": "2a7422c6-6744-4bfc-e862-2d1785dcfb33"
      },
      "source": [
        "#solve\n",
        "a = np.array([[3, 5], [5, 9]])\n",
        "b = np.array([3, 4])\n",
        "x = np.linalg.solve(a, b)\n",
        "x\n",
        "\n",
        "# lstsq\n",
        "x = np.array([[0, 1], [2, 3]])\n",
        "y = np.array([[-1, 0.2], [0.9, 2.1]])\n",
        "np.linalg.lstsq(x,y)\n",
        "\n",
        "#svd\n",
        "a = np.random.randn(9, 6) + 1j*np.random.randn(9, 6)\n",
        "b = np.random.randn(2, 7, 8, 3) + 1j*np.random.randn(2, 7, 8, 3)\n",
        "u, s, vh = np.linalg.svd(a, full_matrices=True)\n",
        "u.shape, s.shape, vh.shape\n",
        "\n",
        "#transpose\n",
        "a = np.array([[1, 2], [3, 4]])\n",
        "a.transpose()\n",
        "\n",
        "#eig\n",
        "from numpy import linalg as LA\n",
        "w, v = LA.eig(np.diag((1, 2, 3)))\n",
        "v\n",
        "\n",
        "#sort\n",
        "a = np.array([[1,4],[3,1]])\n",
        "np.sort(a) \n",
        "\n",
        "#linspace\n",
        "a=np.linspace(2.0, 3.0, num=7)\n",
        "a\n",
        "\n",
        "#meshgrid\n",
        "nx, ny = (3, 3)\n",
        "x = np.linspace(0, 5, nx)\n",
        "y = np.linspace(0, 5, ny)\n",
        "xv, yv = np.meshgrid(x, y)\n",
        "print(xv,\"\\n\")\n",
        "print(yv)\n",
        "\n",
        "#mgrid\n",
        "np.mgrid[0:3,0:7]\n",
        "\n",
        "#ogrid\n",
        "from numpy import ogrid\n",
        "ogrid[0:3,0:7]\n",
        "\n",
        "#concatenate\n",
        "a = np.array([[3, 7], [6, 8]])\n",
        "b = np.array([[11, 15]])\n",
        "np.concatenate((a, b), axis=0)\n",
        "\n",
        "#tile\n",
        "a = np.array([0, 1, 2])\n",
        "np.tile(a, [2,3])\n",
        "\n",
        "#squeeze\n",
        "x = np.array([[[0,2], [1,4], [2,3]]])\n",
        "x.shape\n",
        "np.squeeze(x).shape\n",
        "\n",
        "#integrate\n",
        "def integrate(f, a, b, N):\n",
        "    x = np.linspace(a, b, N)\n",
        "    fx = f(x)\n",
        "    area = np.sum(fx)*(b-a)/N\n",
        "    return area\n",
        "integrate(np.sin, 0, np.pi/2, 100)"
      ],
      "execution_count": null,
      "outputs": [
        {
          "output_type": "error",
          "ename": "NameError",
          "evalue": "ignored",
          "traceback": [
            "\u001b[0;31m---------------------------------------------------------------------------\u001b[0m",
            "\u001b[0;31mNameError\u001b[0m                                 Traceback (most recent call last)",
            "\u001b[0;32m<ipython-input-7-1fe32170d371>\u001b[0m in \u001b[0;36m<module>\u001b[0;34m()\u001b[0m\n\u001b[1;32m      1\u001b[0m \u001b[0;31m#solve\u001b[0m\u001b[0;34m\u001b[0m\u001b[0;34m\u001b[0m\u001b[0;34m\u001b[0m\u001b[0m\n\u001b[0;32m----> 2\u001b[0;31m \u001b[0ma\u001b[0m \u001b[0;34m=\u001b[0m \u001b[0mnp\u001b[0m\u001b[0;34m.\u001b[0m\u001b[0marray\u001b[0m\u001b[0;34m(\u001b[0m\u001b[0;34m[\u001b[0m\u001b[0;34m[\u001b[0m\u001b[0;36m3\u001b[0m\u001b[0;34m,\u001b[0m \u001b[0;36m5\u001b[0m\u001b[0;34m]\u001b[0m\u001b[0;34m,\u001b[0m \u001b[0;34m[\u001b[0m\u001b[0;36m5\u001b[0m\u001b[0;34m,\u001b[0m \u001b[0;36m9\u001b[0m\u001b[0;34m]\u001b[0m\u001b[0;34m]\u001b[0m\u001b[0;34m)\u001b[0m\u001b[0;34m\u001b[0m\u001b[0;34m\u001b[0m\u001b[0m\n\u001b[0m\u001b[1;32m      3\u001b[0m \u001b[0mb\u001b[0m \u001b[0;34m=\u001b[0m \u001b[0mnp\u001b[0m\u001b[0;34m.\u001b[0m\u001b[0marray\u001b[0m\u001b[0;34m(\u001b[0m\u001b[0;34m[\u001b[0m\u001b[0;36m3\u001b[0m\u001b[0;34m,\u001b[0m \u001b[0;36m4\u001b[0m\u001b[0;34m]\u001b[0m\u001b[0;34m)\u001b[0m\u001b[0;34m\u001b[0m\u001b[0;34m\u001b[0m\u001b[0m\n\u001b[1;32m      4\u001b[0m \u001b[0mx\u001b[0m \u001b[0;34m=\u001b[0m \u001b[0mnp\u001b[0m\u001b[0;34m.\u001b[0m\u001b[0mlinalg\u001b[0m\u001b[0;34m.\u001b[0m\u001b[0msolve\u001b[0m\u001b[0;34m(\u001b[0m\u001b[0ma\u001b[0m\u001b[0;34m,\u001b[0m \u001b[0mb\u001b[0m\u001b[0;34m)\u001b[0m\u001b[0;34m\u001b[0m\u001b[0;34m\u001b[0m\u001b[0m\n\u001b[1;32m      5\u001b[0m \u001b[0mx\u001b[0m\u001b[0;34m\u001b[0m\u001b[0;34m\u001b[0m\u001b[0m\n",
            "\u001b[0;31mNameError\u001b[0m: name 'np' is not defined"
          ]
        }
      ]
    },
    {
      "cell_type": "markdown",
      "metadata": {
        "id": "PHcM751HokZD"
      },
      "source": [
        "##Exercise 8"
      ]
    },
    {
      "cell_type": "markdown",
      "metadata": {
        "id": "fI740YM7QBUZ"
      },
      "source": [
        "###a)program using pandas."
      ]
    },
    {
      "cell_type": "code",
      "metadata": {
        "colab": {
          "base_uri": "https://localhost:8080/"
        },
        "id": "n4VMkhpQU1e8",
        "outputId": "92a4f736-e55a-4237-cfb1-38cdc173233b"
      },
      "source": [
        "import pandas as pd \n",
        "Data =[1, 3, 4, 5, 6, 2, 9]  \n",
        "s = pd.Series(Data)    \n",
        "  \n",
        "Index =['a', 'b', 'c', 'd', 'e', 'f', 'g'] \n",
        "  \n",
        "si = pd.Series(Data, Index) \n",
        "si"
      ],
      "execution_count": null,
      "outputs": [
        {
          "output_type": "execute_result",
          "data": {
            "text/plain": [
              "a    1\n",
              "b    3\n",
              "c    4\n",
              "d    5\n",
              "e    6\n",
              "f    2\n",
              "g    9\n",
              "dtype: int64"
            ]
          },
          "metadata": {
            "tags": []
          },
          "execution_count": 2
        }
      ]
    },
    {
      "cell_type": "code",
      "metadata": {
        "colab": {
          "base_uri": "https://localhost:8080/"
        },
        "id": "Iabht6uLV7LO",
        "outputId": "896ddab1-671c-40fc-91a3-db3d6c5a91ff"
      },
      "source": [
        "dicto ={'a':1, 'b':2, 'c':3, 'd':4, 'e':5} \n",
        "\n",
        "sd = pd.Series(dicto) \n",
        "sd"
      ],
      "execution_count": null,
      "outputs": [
        {
          "output_type": "execute_result",
          "data": {
            "text/plain": [
              "a    1\n",
              "b    2\n",
              "c    3\n",
              "d    4\n",
              "e    5\n",
              "dtype: int64"
            ]
          },
          "metadata": {
            "tags": []
          },
          "execution_count": 17
        }
      ]
    },
    {
      "cell_type": "code",
      "metadata": {
        "colab": {
          "base_uri": "https://localhost:8080/"
        },
        "id": "I8LHn1OVWId8",
        "outputId": "835ded46-4592-482b-f65e-f2ec18e385f3"
      },
      "source": [
        "Data =[[2, 3, 4], [5, 6, 7]]  \n",
        "\n",
        "snd = pd.Series(Data) \n",
        "snd"
      ],
      "execution_count": null,
      "outputs": [
        {
          "output_type": "execute_result",
          "data": {
            "text/plain": [
              "0    [2, 3, 4]\n",
              "1    [5, 6, 7]\n",
              "dtype: object"
            ]
          },
          "metadata": {
            "tags": []
          },
          "execution_count": 18
        }
      ]
    },
    {
      "cell_type": "code",
      "metadata": {
        "colab": {
          "base_uri": "https://localhost:8080/",
          "height": 204
        },
        "id": "Uevq1uW1WQDN",
        "outputId": "a57df191-fb6d-44b6-a7eb-a2d1ec0f7abd"
      },
      "source": [
        "dict1 ={'a':1, 'b':2, 'c':3, 'd':4}   \n",
        "   \n",
        "dict2 ={'a':5, 'b':6, 'c':7, 'd':8, 'e':9} \n",
        "\n",
        "Data = {'first':dict1, 'second':dict2} \n",
        "df = pd.DataFrame(Data)\n",
        "df"
      ],
      "execution_count": null,
      "outputs": [
        {
          "output_type": "execute_result",
          "data": {
            "text/html": [
              "<div>\n",
              "<style scoped>\n",
              "    .dataframe tbody tr th:only-of-type {\n",
              "        vertical-align: middle;\n",
              "    }\n",
              "\n",
              "    .dataframe tbody tr th {\n",
              "        vertical-align: top;\n",
              "    }\n",
              "\n",
              "    .dataframe thead th {\n",
              "        text-align: right;\n",
              "    }\n",
              "</style>\n",
              "<table border=\"1\" class=\"dataframe\">\n",
              "  <thead>\n",
              "    <tr style=\"text-align: right;\">\n",
              "      <th></th>\n",
              "      <th>first</th>\n",
              "      <th>second</th>\n",
              "    </tr>\n",
              "  </thead>\n",
              "  <tbody>\n",
              "    <tr>\n",
              "      <th>a</th>\n",
              "      <td>1.0</td>\n",
              "      <td>5</td>\n",
              "    </tr>\n",
              "    <tr>\n",
              "      <th>b</th>\n",
              "      <td>2.0</td>\n",
              "      <td>6</td>\n",
              "    </tr>\n",
              "    <tr>\n",
              "      <th>c</th>\n",
              "      <td>3.0</td>\n",
              "      <td>7</td>\n",
              "    </tr>\n",
              "    <tr>\n",
              "      <th>d</th>\n",
              "      <td>4.0</td>\n",
              "      <td>8</td>\n",
              "    </tr>\n",
              "    <tr>\n",
              "      <th>e</th>\n",
              "      <td>NaN</td>\n",
              "      <td>9</td>\n",
              "    </tr>\n",
              "  </tbody>\n",
              "</table>\n",
              "</div>"
            ],
            "text/plain": [
              "   first  second\n",
              "a    1.0       5\n",
              "b    2.0       6\n",
              "c    3.0       7\n",
              "d    4.0       8\n",
              "e    NaN       9"
            ]
          },
          "metadata": {
            "tags": []
          },
          "execution_count": 19
        }
      ]
    },
    {
      "cell_type": "code",
      "metadata": {
        "colab": {
          "base_uri": "https://localhost:8080/",
          "height": 111
        },
        "id": "PksurxHubIxA",
        "outputId": "cdbf5202-3333-4fdc-e6e6-28c78e731934"
      },
      "source": [
        "d1 =[[2, 3, 4], [5, 6, 7]] \n",
        "\n",
        "d2 =[[2, 4, 8], [1, 3, 9]] \n",
        "  \n",
        "Data ={'first': d1, 'second': d2}  \n",
        "df2d = pd.DataFrame(Data)\n",
        "df2d"
      ],
      "execution_count": null,
      "outputs": [
        {
          "output_type": "execute_result",
          "data": {
            "text/html": [
              "<div>\n",
              "<style scoped>\n",
              "    .dataframe tbody tr th:only-of-type {\n",
              "        vertical-align: middle;\n",
              "    }\n",
              "\n",
              "    .dataframe tbody tr th {\n",
              "        vertical-align: top;\n",
              "    }\n",
              "\n",
              "    .dataframe thead th {\n",
              "        text-align: right;\n",
              "    }\n",
              "</style>\n",
              "<table border=\"1\" class=\"dataframe\">\n",
              "  <thead>\n",
              "    <tr style=\"text-align: right;\">\n",
              "      <th></th>\n",
              "      <th>first</th>\n",
              "      <th>second</th>\n",
              "    </tr>\n",
              "  </thead>\n",
              "  <tbody>\n",
              "    <tr>\n",
              "      <th>0</th>\n",
              "      <td>[2, 3, 4]</td>\n",
              "      <td>[2, 4, 8]</td>\n",
              "    </tr>\n",
              "    <tr>\n",
              "      <th>1</th>\n",
              "      <td>[5, 6, 7]</td>\n",
              "      <td>[1, 3, 9]</td>\n",
              "    </tr>\n",
              "  </tbody>\n",
              "</table>\n",
              "</div>"
            ],
            "text/plain": [
              "       first     second\n",
              "0  [2, 3, 4]  [2, 4, 8]\n",
              "1  [5, 6, 7]  [1, 3, 9]"
            ]
          },
          "metadata": {
            "tags": []
          },
          "execution_count": 3
        }
      ]
    },
    {
      "cell_type": "markdown",
      "metadata": {
        "id": "_g_yBcK_QIhx"
      },
      "source": [
        "###b)Program using matplotlib- use minimum 5 plooting techniques."
      ]
    },
    {
      "cell_type": "code",
      "metadata": {
        "colab": {
          "base_uri": "https://localhost:8080/",
          "height": 312
        },
        "id": "RufNtPvgT3GM",
        "outputId": "a65f6dfe-0b73-4cdb-f5e6-4e2cbd8f62cc"
      },
      "source": [
        "import matplotlib.pyplot as plt\n",
        "#2d plot\n",
        "X=[1,2,3,4,5,6,7]\n",
        "Y=[50,68,45,35,45,74,15]\n",
        "plt.plot(X,Y,'r',linewidth=3,linestyle=\"dotted\",alpha=0.2)\n",
        "plt.xlabel(\"week days\")\n",
        "plt.ylabel(\"temparatures\")\n",
        "plt.title(\"weather\")\n",
        "plt.show"
      ],
      "execution_count": null,
      "outputs": [
        {
          "output_type": "execute_result",
          "data": {
            "text/plain": [
              "<function matplotlib.pyplot.show>"
            ]
          },
          "metadata": {
            "tags": []
          },
          "execution_count": 13
        },
        {
          "output_type": "display_data",
          "data": {
            "image/png": "[encoded data removed]",
            "text/plain": [
              "<Figure size 432x288 with 1 Axes>"
            ]
          },
          "metadata": {
            "tags": [],
            "needs_background": "light"
          }
        }
      ]
    },
    {
      "cell_type": "code",
      "metadata": {
        "colab": {
          "base_uri": "https://localhost:8080/",
          "height": 296
        },
        "id": "EY1wx3L7Ua2D",
        "outputId": "3204878f-d557-4490-89b6-009b809b4fa0"
      },
      "source": [
        "#bar\n",
        "x=[\"google\",'facebook','amazon']\n",
        "y=[65,45,89]\n",
        "plt.bar(x,y)\n",
        "plt.xlabel('company')\n",
        "plt.ylabel(\"stock\")\n",
        "plt.show"
      ],
      "execution_count": null,
      "outputs": [
        {
          "output_type": "execute_result",
          "data": {
            "text/plain": [
              "<function matplotlib.pyplot.show>"
            ]
          },
          "metadata": {
            "tags": []
          },
          "execution_count": 9
        },
        {
          "output_type": "display_data",
          "data": {
            "image/png": "[encoded data removed]",
            "text/plain": [
              "<Figure size 432x288 with 1 Axes>"
            ]
          },
          "metadata": {
            "tags": [],
            "needs_background": "light"
          }
        }
      ]
    },
    {
      "cell_type": "code",
      "metadata": {
        "colab": {
          "base_uri": "https://localhost:8080/",
          "height": 265
        },
        "id": "GdT09DKGg9M8",
        "outputId": "de013e87-e2d7-444b-852c-4f21137e7ccb"
      },
      "source": [
        "X=[1,2,3,4,5,6,7]\n",
        "Y=[50,68,45,35,45,74,15]\n",
        "plt.scatter(X,Y)\n",
        "plt.show()"
      ],
      "execution_count": null,
      "outputs": [
        {
          "output_type": "display_data",
          "data": {
            "image/png": "[encoded data removed]",
            "text/plain": [
              "<Figure size 432x288 with 1 Axes>"
            ]
          },
          "metadata": {
            "tags": [],
            "needs_background": "light"
          }
        }
      ]
    },
    {
      "cell_type": "code",
      "metadata": {
        "colab": {
          "base_uri": "https://localhost:8080/",
          "height": 265
        },
        "id": "imtYC7xdUedJ",
        "outputId": "f2ee7bde-e15c-4e77-9eab-aa6bcacf5034"
      },
      "source": [
        "#histogram\n",
        "blood_sugar=[1,1,2,1,4,5,1,1,3,6,4,3]\n",
        "plt.hist(blood_sugar,color='r' )\n",
        "plt.show()"
      ],
      "execution_count": null,
      "outputs": [
        {
          "output_type": "display_data",
          "data": {
            "image/png": "[encoded data removed]",
            "text/plain": [
              "<Figure size 432x288 with 1 Axes>"
            ]
          },
          "metadata": {
            "tags": [],
            "needs_background": "light"
          }
        }
      ]
    },
    {
      "cell_type": "code",
      "metadata": {
        "colab": {
          "base_uri": "https://localhost:8080/",
          "height": 249
        },
        "id": "OUhfOqJ8UlCN",
        "outputId": "32ba9c56-58a6-4ac7-86cf-8b4bc1a55599"
      },
      "source": [
        "x=[34,78,89,90]\n",
        "y=['dinny','ds','di','do']\n",
        "plt.pie(x,labels=y,radius=1,shadow=True,explode=[0.2,0.1,0.1,0.1])\n",
        "plt.show()"
      ],
      "execution_count": null,
      "outputs": [
        {
          "output_type": "display_data",
          "data": {
            "image/png": "[encoded data removed]",
            "text/plain": [
              "<Figure size 432x288 with 1 Axes>"
            ]
          },
          "metadata": {
            "tags": []
          }
        }
      ]
    },
    {
      "cell_type": "markdown",
      "metadata": {
        "id": "ZWcHQgoCokv5"
      },
      "source": [
        "##Exercise 9"
      ]
    },
    {
      "cell_type": "markdown",
      "metadata": {
        "id": "-9lyBcFIQXRs"
      },
      "source": [
        "###a)Graph using matplotlib."
      ]
    },
    {
      "cell_type": "code",
      "metadata": {
        "colab": {
          "base_uri": "https://localhost:8080/",
          "height": 295
        },
        "id": "M4P5_hFmHQX2",
        "outputId": "e1a7ef99-02e3-44ff-a55c-c3eb4c8b8786"
      },
      "source": [
        "import matplotlib.pyplot as plt\n",
        "x = [9,12,25]\n",
        "y = [7,9,3]\n",
        "plt.plot(x, y)\n",
        "plt.xlabel('x-axis')\n",
        "plt.ylabel('y-axis')\n",
        "plt.title('Graph using MatPlot')\n",
        "plt.show()"
      ],
      "execution_count": null,
      "outputs": [
        {
          "output_type": "display_data",
          "data": {
            "image/png": "[encoded data removed]",
            "text/plain": [
              "<Figure size 432x288 with 1 Axes>"
            ]
          },
          "metadata": {
            "tags": [],
            "needs_background": "light"
          }
        }
      ]
    },
    {
      "cell_type": "markdown",
      "metadata": {
        "id": "vpArhRJ2oqaB"
      },
      "source": [
        "##Exercise 10"
      ]
    },
    {
      "cell_type": "markdown",
      "metadata": {
        "id": "Kak2JLD_Qg0N"
      },
      "source": [
        "###a)vector using matplotlib."
      ]
    },
    {
      "cell_type": "code",
      "metadata": {
        "colab": {
          "base_uri": "https://localhost:8080/",
          "height": 269
        },
        "id": "NHundSfwI-i0",
        "outputId": "eb32f3ad-1c12-42d8-8ecf-8bced60a1d84"
      },
      "source": [
        "import matplotlib.pyplot as plt\n",
        "plt.quiver(0,0,5,11,scale_units='xy', angles='xy', scale=1, color='r')\n",
        "plt.quiver(0,0,-1,10,scale_units='xy', angles='xy', scale=1, color='g')\n",
        "plt.quiver(0,0,-5,15,scale_units='xy', angles='xy', scale=1, color='b')\n",
        "plt.xlim(-20,20)\n",
        "plt.ylim(-20,20)\n",
        "plt.show()"
      ],
      "execution_count": null,
      "outputs": [
        {
          "output_type": "display_data",
          "data": {
            "image/png": "[encoded data removed]",
            "text/plain": [
              "<Figure size 432x288 with 1 Axes>"
            ]
          },
          "metadata": {
            "tags": [],
            "needs_background": "light"
          }
        }
      ]
    }
  ]
}